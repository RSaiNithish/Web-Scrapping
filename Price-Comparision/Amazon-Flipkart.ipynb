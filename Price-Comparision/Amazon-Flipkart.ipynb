{
  "nbformat": 4,
  "nbformat_minor": 0,
  "metadata": {
    "colab": {
      "provenance": [],
      "authorship_tag": "ABX9TyMxuL0WyjSdb7Ft3lgLphnZ",
      "include_colab_link": true
    },
    "kernelspec": {
      "name": "python3",
      "display_name": "Python 3"
    },
    "language_info": {
      "name": "python"
    }
  },
  "cells": [
    {
      "cell_type": "markdown",
      "metadata": {
        "id": "view-in-github",
        "colab_type": "text"
      },
      "source": [
        "<a href=\"https://colab.research.google.com/github/RSaiNithish/Web-Scrapping/blob/main/Amazon-Flipkart.ipynb\" target=\"_parent\"><img src=\"https://colab.research.google.com/assets/colab-badge.svg\" alt=\"Open In Colab\"/></a>"
      ]
    },
    {
      "cell_type": "markdown",
      "source": [
        "# Mobile price  (Amazon and Flipkart)"
      ],
      "metadata": {
        "id": "bEvKwZPLR2KK"
      }
    },
    {
      "cell_type": "code",
      "source": [
        "#@title Setup(run this to set up)\n",
        "print(\"Initializing...\")\n",
        "import requests\n",
        "from lxml import etree\n",
        "from bs4 import BeautifulSoup as bs4 \n",
        "import re\n",
        "import pandas as pd\n",
        "import numpy as np\n",
        "def flipkart(product):\n",
        "    status = 0\n",
        "    url = product.replace(\" \",\"%20\")\n",
        "    URL = f\"https://www.flipkart.com/search?q={url}&sort=recency_desc\"\n",
        "    while True:\n",
        "        page = requests.get(URL)\n",
        "        status = page.status_code\n",
        "        if status ==200:\n",
        "            break\n",
        "    soup = bs4(page.content, \"html.parser\")\n",
        "    \n",
        "    name = soup.find('div',attrs={\"class\":\"_4rR01T\"})\n",
        "    if product not in name.text.lower():\n",
        "        return \"Not availabe on Flipkart!\"\n",
        "    item = soup.find_all('div',attrs={ \"class\":\"_30jeq3 _1_WHN1\"})\n",
        "    prices = []\n",
        "    for i in item:\n",
        "      prices.append(int(i.text.replace(\",\",\"\")[1:]))\n",
        "    return sorted(prices)[0]\n",
        "\n",
        "\n",
        "def amazon(product):\n",
        "    url = product.replace(\"%20\",\"+\")\n",
        "    status = 0\n",
        "    URL = f\"https://www.amazon.in/s?k={url}&rh=p_85%3A10440599031&s=relevanceblender&dc&qid=1666776711&rnid=10440598031&ref=sr_st_relevanceblender&ds=v1%3AeLI3K1M3%2F9ueN78VR6CGtEvIx1vNZA%2F4GaJTMKK9MUg\"\n",
        "    while True:\n",
        "        page = requests.get(URL)\n",
        "        status = page.status_code\n",
        "        if status ==200:\n",
        "            break\n",
        "    soup = bs4(page.content, \"html.parser\")\n",
        "    name = soup.find('span',attrs={\"class\":\"a-size-medium a-color-base a-text-normal\"})\n",
        "    if product not in name.text.lower():\n",
        "        return \"Not availabe on Amazon!\"\n",
        "    re = soup.find_all('span',attrs={ \"class\":\"a-price-whole\"})\n",
        "    prices = []\n",
        "    for i in re:\n",
        "      prices.append(int(i.text.replace(\",\",\"\")))\n",
        "    return sorted(prices)[0]\n",
        "print(\"Setup done!\")\n"
      ],
      "metadata": {
        "id": "N8ojiPAbo_fg",
        "colab": {
          "base_uri": "https://localhost:8080/"
        },
        "cellView": "form",
        "outputId": "ca394f5d-5721-4aad-b2cf-1d26d56c139c"
      },
      "execution_count": null,
      "outputs": [
        {
          "output_type": "stream",
          "name": "stdout",
          "text": [
            "Initializing...\n",
            "Setup done!\n"
          ]
        }
      ]
    },
    {
      "cell_type": "code",
      "source": [
        "#@title Enter Device name (ex: iphone 14, motorola g71 )\n",
        "product = input(\"Enter the name of the smartphone: \") \n",
        "print(\"Price of your product is:\\nFlipkart: \",flipkart(product),\"\\nAmazon: \",amazon(product))"
      ],
      "metadata": {
        "id": "1LPXDEjzpI9Y",
        "cellView": "form"
      },
      "execution_count": null,
      "outputs": []
    },
    {
      "cell_type": "code",
      "source": [],
      "metadata": {
        "id": "iaaO3_Rhyzqd"
      },
      "execution_count": null,
      "outputs": []
    }
  ]
}